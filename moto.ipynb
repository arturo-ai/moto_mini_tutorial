{
 "cells": [
  {
   "cell_type": "markdown",
   "metadata": {},
   "source": [
    "# Testing AWS"
   ]
  },
  {
   "cell_type": "markdown",
   "metadata": {},
   "source": [
    "If you've ever tried to test the use of AWS in code before you know there are quite a few issues:<br>\n",
    "- There isn't a clear object to mock\n",
    "- Even if you have a wrapper/wrapper library to mock: \n",
    " - there isn't a good way to test the code inside the wrapper (let's say you provided `bucket=` instead of `Bucket=`)\n",
    " - you can't always be sure the results you expected to get and mocked up actually match the reality\n",
    "- There is localstack, but that takes a time to spin up and eats up resources locally (+ ugly docker-compose files)\n",
    "\n",
    "This often leads to untested or poorly tested code. Existing mocks are often difficult to understand and quickly get more and more convoluted. "
   ]
  },
  {
   "cell_type": "markdown",
   "metadata": {},
   "source": [
    "## Moto saves the day\n",
    "So here comes a library actively developed and supported by many. It mocks out the internals of AWS in a neat and standardized way, allowing you to interact with the AWS as if nothing was mocking it. It goes through all the normal loops and hoops of botocore and provides realistic responses.<br>\n",
    "<br>\n",
    "While we'll go over some of it here, in case you ever want a clearer explanation or more detail here is the [documentation](http://docs.getmoto.org/en/latest/docs/getting_started.html#decorator) and the [source code](https://github.com/spulec/moto). "
   ]
  },
  {
   "cell_type": "markdown",
   "metadata": {},
   "source": [
    "## Example of a test (as close as we can get in this format)\n",
    "\n",
    "So here is a tiny function we want to test"
   ]
  },
  {
   "cell_type": "code",
   "execution_count": 48,
   "metadata": {},
   "outputs": [],
   "source": [
    "import boto3\n",
    "\n",
    "def some_upload(data: bytes, bucket: str, key: str):\n",
    "    client = boto3.client(\"s3\")\n",
    "    client.put_object(Body=data, Bucket=bucket, Key=key)"
   ]
  },
  {
   "cell_type": "markdown",
   "metadata": {},
   "source": [
    "Let's create a test for it. Using pytest within jupyterbook doesn't seem straightforward, but I'll try to follow the normal structure. "
   ]
  },
  {
   "cell_type": "code",
   "execution_count": 49,
   "metadata": {},
   "outputs": [],
   "source": [
    "from moto import mock_s3\n",
    "\n",
    "@mock_s3  # Here for safety - more info later\n",
    "#pytest.fixture()\n",
    "def bucket(client):\n",
    "    bucket_name = \"test_bucket\"\n",
    "    client.create_bucket(Bucket=bucket_name)\n",
    "    \n",
    "    return bucket_name\n",
    "    # In a real fixture we would yield and clean up here\n",
    "\n",
    "@mock_s3\n",
    "def test_upload():\n",
    "    client = boto3.client(\"s3\")\n",
    "    bucket_name = bucket(client)\n",
    "    \n",
    "    data = b\"Made up file contents because I have no imagination.\"\n",
    "    key = \"somewhere/something.txt\"\n",
    "    some_upload(data, bucket_name, key)  # Notice how we don't have to provide a mocked client object.\n",
    "    \n",
    "    # Check we have 1 object in the bucket\n",
    "    objects = client.list_objects(Bucket=bucket_name)\n",
    "    assert len(objects[\"Contents\"]) == 1\n",
    "    \n",
    "    # Check the contents\n",
    "    uploaded_file = client.get_object(Bucket=bucket_name, Key=key)\n",
    "    assert uploaded_file[\"Body\"].read() == data"
   ]
  },
  {
   "cell_type": "markdown",
   "metadata": {},
   "source": [
    "As this is a test, no output means success. That's a little boring, but let's make sure it didn't fail:"
   ]
  },
  {
   "cell_type": "code",
   "execution_count": 50,
   "metadata": {},
   "outputs": [],
   "source": [
    "test_upload()"
   ]
  },
  {
   "cell_type": "markdown",
   "metadata": {},
   "source": [
    "## Let's look inside and see those responses for ourselves"
   ]
  },
  {
   "cell_type": "markdown",
   "metadata": {},
   "source": [
    "Now that we see that the test doesn't fail, it would be more fun to actually see the responses from the fake aws. Let's run all of these steps one by one and look at the aws responses"
   ]
  },
  {
   "cell_type": "code",
   "execution_count": 52,
   "metadata": {},
   "outputs": [
    {
     "name": "stdout",
     "output_type": "stream",
     "text": [
      "{'Buckets': [{'CreationDate': datetime.datetime(2020, 10, 2, 3, 6, 5, 967829, tzinfo=tzutc()),\n",
      "              'Name': 'test_bucket'},\n",
      "             {'CreationDate': datetime.datetime(2020, 10, 2, 3, 6, 5, 969823, tzinfo=tzutc()),\n",
      "              'Name': 'some_bucket2'},\n",
      "             {'CreationDate': datetime.datetime(2020, 10, 2, 3, 6, 5, 972156, tzinfo=tzutc()),\n",
      "              'Name': 'some_bucket3'}],\n",
      " 'Owner': {'DisplayName': 'webfile', 'ID': 'bcaf1ffd86f41161ca5fb16fd081034f'},\n",
      " 'ResponseMetadata': {'HTTPHeaders': {},\n",
      "                      'HTTPStatusCode': 200,\n",
      "                      'RetryAttempts': 0}}\n"
     ]
    }
   ],
   "source": [
    "from pprint import pprint\n",
    "\n",
    "mock = mock_s3()\n",
    "mock.start()  # Can be used as a decorator, context manager, or raw - more on that later.\n",
    "\n",
    "bucket_name = \"test_bucket\"\n",
    "client = boto3.client(\"s3\")\n",
    "client.create_bucket(Bucket=bucket_name)\n",
    "client.create_bucket(Bucket=\"some_bucket2\")\n",
    "client.create_bucket(Bucket=\"some_bucket3\")\n",
    "pprint(client.list_buckets())"
   ]
  },
  {
   "cell_type": "code",
   "execution_count": 53,
   "metadata": {},
   "outputs": [
    {
     "name": "stdout",
     "output_type": "stream",
     "text": [
      "{'Contents': [{'ETag': '\"50a39ec9e0e46cf2826eb5745e1c800b\"',\n",
      "               'Key': 'somewhere/something.txt',\n",
      "               'LastModified': datetime.datetime(2020, 10, 2, 3, 6, 12, tzinfo=tzutc()),\n",
      "               'Owner': {'DisplayName': 'webfile',\n",
      "                         'ID': '75aa57f09aa0c8caeab4f8c24e99d10f8e7faeebf76c078efc7c6caea54ba06a'},\n",
      "               'Size': 19,\n",
      "               'StorageClass': 'STANDARD'}],\n",
      " 'Delimiter': 'None',\n",
      " 'IsTruncated': False,\n",
      " 'MaxKeys': 1000,\n",
      " 'Name': 'test_bucket',\n",
      " 'ResponseMetadata': {'HTTPHeaders': {},\n",
      "                      'HTTPStatusCode': 200,\n",
      "                      'RetryAttempts': 0}}\n"
     ]
    }
   ],
   "source": [
    "data = b\"Something something\"\n",
    "key = \"somewhere/something.txt\"\n",
    "some_upload(data, bucket_name, key)\n",
    "    \n",
    "objects = client.list_objects(Bucket=bucket_name)\n",
    "pprint(objects)"
   ]
  },
  {
   "cell_type": "code",
   "execution_count": 54,
   "metadata": {
    "scrolled": true
   },
   "outputs": [
    {
     "name": "stdout",
     "output_type": "stream",
     "text": [
      "{'Body': <botocore.response.StreamingBody object at 0x10e070a90>,\n",
      " 'ContentLength': 19,\n",
      " 'ETag': '\"50a39ec9e0e46cf2826eb5745e1c800b\"',\n",
      " 'LastModified': datetime.datetime(2020, 10, 2, 3, 6, 12, tzinfo=tzutc()),\n",
      " 'Metadata': {},\n",
      " 'ResponseMetadata': {'HTTPHeaders': {'content-length': '19',\n",
      "                                      'content-md5': 'UKOeyeDkbPKCbrV0XhyACw==',\n",
      "                                      'etag': '\"50a39ec9e0e46cf2826eb5745e1c800b\"',\n",
      "                                      'last-modified': 'Fri, 02 Oct 2020 '\n",
      "                                                       '03:06:12 GMT'},\n",
      "                      'HTTPStatusCode': 200,\n",
      "                      'RetryAttempts': 0}}\n"
     ]
    }
   ],
   "source": [
    "uploaded_file = client.get_object(Bucket=bucket_name, Key=key)\n",
    "pprint(uploaded_file)"
   ]
  },
  {
   "cell_type": "code",
   "execution_count": 55,
   "metadata": {},
   "outputs": [
    {
     "name": "stdout",
     "output_type": "stream",
     "text": [
      "b'Something something'\n"
     ]
    }
   ],
   "source": [
    "print(uploaded_file[\"Body\"].read())\n",
    "mock.stop()"
   ]
  },
  {
   "cell_type": "markdown",
   "metadata": {},
   "source": [
    "## Notes I took while learning to use it: \n",
    "### How you use it\n",
    "mock_X can be used as a decorator, context manager and raw object. Make an conscious choice when using them. My own notes on their use-cases:\n",
    "- <b>decorator</b>: best for nice small tests that touch aws only inside the test itself. Also can be used as a precaution (see below). Don't use on aws fixtures - decorators and yield statements can get funky.\n",
    "- <b>context manager</b>: best for fixtures and anywhere you want to have a very clear control over context's scope.\n",
    "- <b>raw</b>: best for trying it out in a shell or presenting it to another step-by-step.\n",
    "\n",
    "### Be mindful of your own mistakes\n",
    "It seems like we (developers) are always able to access AWS without any extra steps (such as auth every so often or a VPN). While that's great, it also leaves us prone to easy oopsies: \n",
    "##### Oopsie example 1: \n",
    "There is a helper function for testing that touches AWS and relies on the context of the caller. Calling it outside of mocked context by accident might do something you didn't mean (ex: sent an email to everyone, uploaded a file into a production bucket or even worse - deleted everything inside a bucket)\n",
    "##### Oopsie example 2: \n",
    "Maybe the helper isn't relying on the caller's context, but, for example, you accidentally deleted the `@mock_s3` line. This mistake isn't as easy to prevent as one from example 1, but the result might be as devastating. \n",
    "\n",
    "##### Keep yourself safe:\n",
    "- Use a decorator on these methods <i>- don't rely on external context. Moto's works just as fine even if the contexts overlap.</i>\n",
    "- Always override bucket names, paths, etc in the tests - <i>Don't let a default, an environment variable or .env file eventually drop you into a fire. Honestly, it's best to do that in any case. </i>\n",
    "- If you're not sure, disconnect while you set up or make major changes - <i>The extra paranoid (so, basically, me) can always move the aws config temporarily or turn off the internet until the (unit) tests are properly set up.</i>"
   ]
  }
 ],
 "metadata": {
  "kernelspec": {
   "display_name": "Python 3",
   "language": "python",
   "name": "python3"
  },
  "language_info": {
   "codemirror_mode": {
    "name": "ipython",
    "version": 3
   },
   "file_extension": ".py",
   "mimetype": "text/x-python",
   "name": "python",
   "nbconvert_exporter": "python",
   "pygments_lexer": "ipython3",
   "version": "3.7.3"
  }
 },
 "nbformat": 4,
 "nbformat_minor": 4
}
